{
 "cells": [
  {
   "cell_type": "code",
   "execution_count": null,
   "metadata": {},
   "outputs": [],
   "source": [
    "# Note: All string methods returns new values. They do not change the original string.\n",
    "\"\"\"\n",
    "Method\t        Description\n",
    "\n",
    "capitalize()\tConverts the first character to upper case\n",
    "casefold()\t    Converts string into lower case\n",
    "center()\t    Returns a centered string\n",
    "count()\t        Returns the number of times a specified value occurs in a string\n",
    "encode()\t    Returns an encoded version of the string\n",
    "endswith()\t    Returns true if the string ends with the specified value\n",
    "expandtabs()\tSets the tab size of the string\n",
    "find()\t        Searches the string for a specified value and returns the position of where it was found\n",
    "format()\t    Formats specified values in a string\n",
    "format_map()\tFormats specified values in a string\n",
    "index()\t        Searches the string for a specified value and returns the position of where it was found\n",
    "isalnum()\t    Returns True if all characters in the string are alphanumeric\n",
    "isalpha()\t    Returns True if all characters in the string are in the alphabet\n",
    "isascii()\t    Returns True if all characters in the string are ascii characters\n",
    "isdecimal()\t    Returns True if all characters in the string are decimals\n",
    "isdigit()\t    Returns True if all characters in the string are digits\n",
    "isidentifier()\tReturns True if the string is an identifier\n",
    "islower()\t    Returns True if all characters in the string are lower case\n",
    "isnumeric()\t    Returns True if all characters in the string are numeric\n",
    "isprintable()\tReturns True if all characters in the string are printable\n",
    "isspace()\t    Returns True if all characters in the string are whitespaces\n",
    "istitle()\t    Returns True if the string follows the rules of a title\n",
    "isupper()\t    Returns True if all characters in the string are upper case\n",
    "join()\t        Converts the elements of an iterable into a string\n",
    "ljust()\t        Returns a left justified version of the string\n",
    "lower()\t        Converts a string into lower case\n",
    "lstrip()\t    Returns a left trim version of the string\n",
    "maketrans()\t    Returns a translation table to be used in translations\n",
    "partition()\t    Returns a tuple where the string is parted into three parts\n",
    "replace()\t    Returns a string where a specified value is replaced with a specified value\n",
    "rfind()\t        Searches the string for a specified value and returns the last position of where it was found\n",
    "rindex()\t    Searches the string for a specified value and returns the last position of where it was found\n",
    "rjust()\t        Returns a right justified version of the string\n",
    "rpartition()\tReturns a tuple where the string is parted into three parts\n",
    "rsplit()\t    Splits the string at the specified separator, and returns a list\n",
    "rstrip()\t    Returns a right trim version of the string\n",
    "split()\t        Splits the string at the specified separator, and returns a list\n",
    "splitlines()\tSplits the string at line breaks and returns a list\n",
    "startswith()\tReturns true if the string starts with the specified value\n",
    "strip()\tR       eturns a trimmed version of the string\n",
    "swapcase()\t    Swaps cases, lower case becomes upper case and vice versa\n",
    "title()\t        Converts the first character of each word to upper case\n",
    "translate()\t    Returns a translated string\n",
    "upper()\t        Converts a string into upper case\n",
    "zfill()\t        Fills the string with a specified number of 0 values at the beginning\n",
    "\"\"\""
   ]
  },
  {
   "cell_type": "code",
   "execution_count": 5,
   "metadata": {},
   "outputs": [
    {
     "name": "stdout",
     "output_type": "stream",
     "text": [
      "Hello John!\n"
     ]
    }
   ],
   "source": [
    "# concatenating strings\n",
    "\n",
    "greeting = \"Hello\"\n",
    "name = \"John\"\n",
    "message = greeting +\" \"+ name + \"!\"\n",
    "print(message)"
   ]
  },
  {
   "cell_type": "code",
   "execution_count": 14,
   "metadata": {},
   "outputs": [
    {
     "name": "stdout",
     "output_type": "stream",
     "text": [
      "BEAUTIFUL\n",
      "beautiful\n",
      "Beautiful\n"
     ]
    }
   ],
   "source": [
    "# change the case of a string\n",
    "\n",
    "word = \"Beautiful\"\n",
    "\n",
    "print(word.upper())  # Uppercase\n",
    "print(word.lower())  # Lowercase\n",
    "print(word.title())  # Title Case\n"
   ]
  },
  {
   "cell_type": "code",
   "execution_count": 18,
   "metadata": {},
   "outputs": [
    {
     "name": "stdout",
     "output_type": "stream",
     "text": [
      "True\n",
      "True\n"
     ]
    }
   ],
   "source": [
    "# check the start or end of a string for specific text\n",
    "\n",
    "file_name = \"readme.txt\"\n",
    "print(file_name.startswith(\"read\"))  # True\n",
    "print(file_name.endswith(\".txt\"))    # True"
   ]
  },
  {
   "cell_type": "code",
   "execution_count": 23,
   "metadata": {},
   "outputs": [
    {
     "name": "stdout",
     "output_type": "stream",
     "text": [
      "['Beautiful', 'is', 'better', 'than', 'ugly.']\n",
      "Beautiful is better than ugly.\n"
     ]
    }
   ],
   "source": [
    "# to split a string into a list or join a list into a string\n",
    "\n",
    "string_line = \"Beautiful is better than ugly.\"\n",
    "\n",
    "words = string_line.split()  # Split string into list\n",
    "joined = \" \".join(words)  # Join list into string\n",
    "print(words)\n",
    "print(joined)"
   ]
  },
  {
   "cell_type": "code",
   "execution_count": 24,
   "metadata": {},
   "outputs": [
    {
     "name": "stdout",
     "output_type": "stream",
     "text": [
      "30\n"
     ]
    }
   ],
   "source": [
    "# length of a string\n",
    "\n",
    "print(len(string_line))"
   ]
  },
  {
   "cell_type": "code",
   "execution_count": 25,
   "metadata": {},
   "outputs": [
    {
     "name": "stdout",
     "output_type": "stream",
     "text": [
      "\n",
      "    Although practicality beats purity.\n",
      "    Errors should never pass silently.\n",
      "    Unless explicitly silenced.\n",
      "\n"
     ]
    }
   ],
   "source": [
    "# multiple lines\n",
    "\n",
    "text_lines = \"\"\"\n",
    "    Although practicality beats purity.\n",
    "    Errors should never pass silently.\n",
    "    Unless explicitly silenced.\n",
    "\"\"\"\n",
    "print(text_lines)"
   ]
  },
  {
   "cell_type": "code",
   "execution_count": 26,
   "metadata": {},
   "outputs": [
    {
     "name": "stdout",
     "output_type": "stream",
     "text": [
      "Hello Python\n"
     ]
    }
   ],
   "source": [
    "# replace parts of a string with another string\n",
    "\n",
    "parent_string = \"Hello world\"\n",
    "new_string = parent_string.replace(\"world\", \"Python\")\n",
    "print(new_string)"
   ]
  },
  {
   "cell_type": "code",
   "execution_count": 1,
   "metadata": {},
   "outputs": [
    {
     "name": "stdout",
     "output_type": "stream",
     "text": [
      "True\n",
      "True\n",
      "True\n",
      "False\n"
     ]
    }
   ],
   "source": [
    "# check if a string contains only digits, alphabetic characters, or alphanumeric characters\n",
    "\n",
    "print(\"12345\".isdigit())  # True\n",
    "print(\"abcdfg\".isalpha())  # True\n",
    "print(\"abc1234\".isalnum())  # True\n",
    "print(\"12absdfg\".isdigit())  # False"
   ]
  },
  {
   "cell_type": "code",
   "execution_count": 30,
   "metadata": {},
   "outputs": [
    {
     "name": "stdout",
     "output_type": "stream",
     "text": [
      "tt\n"
     ]
    }
   ],
   "source": [
    "# extract a substring using slicing\n",
    "\n",
    "word = \"better\"\n",
    "substring = word[2:4]  # From 2rd to 4th character \"tt\"\n",
    "print(substring)"
   ]
  },
  {
   "cell_type": "code",
   "execution_count": 47,
   "metadata": {},
   "outputs": [
    {
     "name": "stdout",
     "output_type": "stream",
     "text": [
      "retteb\n"
     ]
    }
   ],
   "source": [
    "# reverse string\n",
    "\n",
    "word = \"better\"\n",
    "reversed = word[::-1]\n",
    "print(reversed)"
   ]
  },
  {
   "cell_type": "code",
   "execution_count": 35,
   "metadata": {},
   "outputs": [
    {
     "name": "stdout",
     "output_type": "stream",
     "text": [
      "/Users/home/Desktop\n"
     ]
    }
   ],
   "source": [
    "path = r\"/Users/home/Desktop\"\n",
    "print(path)"
   ]
  },
  {
   "cell_type": "code",
   "execution_count": 41,
   "metadata": {},
   "outputs": [
    {
     "name": "stdout",
     "output_type": "stream",
     "text": [
      "7\n",
      "14\n"
     ]
    }
   ],
   "source": [
    "# find the position of a substring within a string\n",
    "\n",
    "string_line = \"Now is better than never\"\n",
    "position = string_line.find(\"better\")\n",
    "index = string_line.index(\"than\")\n",
    "print(position)\n",
    "print(index)"
   ]
  },
  {
   "cell_type": "code",
   "execution_count": 46,
   "metadata": {},
   "outputs": [
    {
     "name": "stdout",
     "output_type": "stream",
     "text": [
      "B\n",
      "e\n",
      "a\n",
      "u\n",
      "t\n",
      "i\n",
      "f\n",
      "u\n",
      "l\n"
     ]
    }
   ],
   "source": [
    "# individual characters in a string\n",
    "\n",
    "string_word = \"Beautiful\"\n",
    "\n",
    "for char in string_word:\n",
    "    print(char)"
   ]
  },
  {
   "cell_type": "code",
   "execution_count": null,
   "metadata": {},
   "outputs": [],
   "source": []
  }
 ],
 "metadata": {
  "kernelspec": {
   "display_name": "Python 3",
   "language": "python",
   "name": "python3"
  },
  "language_info": {
   "codemirror_mode": {
    "name": "ipython",
    "version": 3
   },
   "file_extension": ".py",
   "mimetype": "text/x-python",
   "name": "python",
   "nbconvert_exporter": "python",
   "pygments_lexer": "ipython3",
   "version": "3.8.9"
  }
 },
 "nbformat": 4,
 "nbformat_minor": 2
}
