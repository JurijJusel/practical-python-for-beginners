{
 "cells": [
  {
   "cell_type": "code",
   "execution_count": 2,
   "metadata": {},
   "outputs": [
    {
     "name": "stdout",
     "output_type": "stream",
     "text": [
      "10 apples\n"
     ]
    }
   ],
   "source": [
    "# string interpolation\n",
    "\n",
    "str_value = 'apples'\n",
    "num_value = 10\n",
    "\n",
    "print(f'{num_value} {str_value}')"
   ]
  },
  {
   "cell_type": "code",
   "execution_count": 4,
   "metadata": {},
   "outputs": [
    {
     "name": "stdout",
     "output_type": "stream",
     "text": [
      "num_value = 10 str_value = 'apples'\n"
     ]
    }
   ],
   "source": [
    "# Variable names\n",
    "\n",
    "print(f'{num_value = } {str_value = }')"
   ]
  },
  {
   "cell_type": "code",
   "execution_count": 5,
   "metadata": {},
   "outputs": [
    {
     "name": "stdout",
     "output_type": "stream",
     "text": [
      "12\n"
     ]
    }
   ],
   "source": [
    "# Mathematical operation\n",
    "\n",
    "print(f'{num_value + 2}')"
   ]
  },
  {
   "cell_type": "code",
   "execution_count": 9,
   "metadata": {},
   "outputs": [
    {
     "name": "stdout",
     "output_type": "stream",
     "text": [
      "5.88\n"
     ]
    }
   ],
   "source": [
    "# Number formatting\n",
    "\n",
    "float_value = 5.877463\n",
    "\n",
    "print(f'{float_value:.2f}') # round two digits after comma, three digits .3f"
   ]
  },
  {
   "cell_type": "code",
   "execution_count": 13,
   "metadata": {},
   "outputs": [
    {
     "name": "stdout",
     "output_type": "stream",
     "text": [
      "date_now = 2024/06/24\n"
     ]
    }
   ],
   "source": [
    "from datetime import datetime;\n",
    "\n",
    "date_now = datetime.now()\n",
    "\n",
    "print(f'{date_now = :%Y/%m/%d}')  # output: date_now = 2024/06/24"
   ]
  }
 ],
 "metadata": {
  "kernelspec": {
   "display_name": "Python 3",
   "language": "python",
   "name": "python3"
  },
  "language_info": {
   "codemirror_mode": {
    "name": "ipython",
    "version": 3
   },
   "file_extension": ".py",
   "mimetype": "text/x-python",
   "name": "python",
   "nbconvert_exporter": "python",
   "pygments_lexer": "ipython3",
   "version": "3.8.9"
  }
 },
 "nbformat": 4,
 "nbformat_minor": 2
}
