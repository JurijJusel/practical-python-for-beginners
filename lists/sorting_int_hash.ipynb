{
 "cells": [
  {
   "cell_type": "code",
   "execution_count": 1,
   "metadata": {},
   "outputs": [],
   "source": [
    "# Sorting list of integers\n",
    "\n",
    "a = [1, 2, 3, 4, 3, 2, 4, 10, 6, 7, 4, 3, 9, 8, 5, 6, 9, 10, 2, 10, 5, 5, 6, 8, 9, 10, 10, 3, 2, 6, 8]\n",
    "hash_table = {1: 0, 2: 0, 3: 0, 4: 0, 5: 0, 6: 0, 7: 0, 8: 0, 9: 0, 10: 0}\n",
    "\n",
    "for element in a:\n",
    "    if element in hash_table:\n",
    "        hash_table[element] += 1\n",
    "    else:\n",
    "        hash_table[element] = 1"
   ]
  },
  {
   "cell_type": "code",
   "execution_count": 2,
   "metadata": {},
   "outputs": [
    {
     "name": "stdout",
     "output_type": "stream",
     "text": [
      "hash_table {1: 1, 2: 4, 3: 4, 4: 3, 5: 3, 6: 4, 7: 1, 8: 3, 9: 3, 10: 5}\n"
     ]
    }
   ],
   "source": [
    "print('hash_table', hash_table)"
   ]
  },
  {
   "cell_type": "code",
   "execution_count": 3,
   "metadata": {},
   "outputs": [
    {
     "name": "stdout",
     "output_type": "stream",
     "text": [
      "output_list [1, 2, 2, 2, 2, 3, 3, 3, 3, 4, 4, 4, 5, 5, 5, 6, 6, 6, 6, 7, 8, 8, 8, 9, 9, 9, 10, 10, 10, 10, 10]\n"
     ]
    }
   ],
   "source": [
    "output_list = []\n",
    "for key, value in hash_table.items():\n",
    "    output_list.extend([key] * value)\n",
    "print('output_list', output_list)"
   ]
  }
 ],
 "metadata": {
  "kernelspec": {
   "display_name": "Python 3",
   "language": "python",
   "name": "python3"
  },
  "language_info": {
   "codemirror_mode": {
    "name": "ipython",
    "version": 3
   },
   "file_extension": ".py",
   "mimetype": "text/x-python",
   "name": "python",
   "nbconvert_exporter": "python",
   "pygments_lexer": "ipython3",
   "version": "3.8.9"
  }
 },
 "nbformat": 4,
 "nbformat_minor": 2
}
