{
 "cells": [
  {
   "cell_type": "code",
   "execution_count": null,
   "metadata": {},
   "outputs": [],
   "source": [
    "\"\"\"\n",
    "Method\t    Description\n",
    "\n",
    "append()\tAdds an element at the end of the list\n",
    "clear()\t    Removes all the elements from the list\n",
    "copy()\t    Returns a copy of the list\n",
    "count()\t    eturns the number of elements with the specified value\n",
    "extend()\tAdd the elements of a list (or any iterable), to the end of the current list\n",
    "index()\t    Returns the index of the first element with the specified value\n",
    "insert()\tAdds an element at the specified position\n",
    "pop()\t    Removes the element at the specified position\n",
    "remove()\tRemoves the first item with the specified value\n",
    "reverse()\tReverses the order of the list\n",
    "sort()\t    Sorts the list\n",
    "\"\"\"\n"
   ]
  },
  {
   "cell_type": "code",
   "execution_count": 10,
   "metadata": {},
   "outputs": [],
   "source": [
    "elements = ['Adds', 'an', 'element', 'at', 'the', 'end', 'of', 'the', 'list',]"
   ]
  },
  {
   "cell_type": "code",
   "execution_count": 19,
   "metadata": {},
   "outputs": [
    {
     "data": {
      "text/plain": [
       "['Adds',\n",
       " 'an',\n",
       " 'element',\n",
       " 'at',\n",
       " 'the',\n",
       " 'end',\n",
       " 'of',\n",
       " 'the',\n",
       " 'list',\n",
       " 'new element']"
      ]
     },
     "execution_count": 19,
     "metadata": {},
     "output_type": "execute_result"
    }
   ],
   "source": [
    "# To append a new element to the end of a list:\n",
    "elements.append('new element')\n",
    "elements"
   ]
  },
  {
   "cell_type": "code",
   "execution_count": 20,
   "metadata": {},
   "outputs": [
    {
     "data": {
      "text/plain": [
       "['first',\n",
       " 'Adds',\n",
       " 'an',\n",
       " 'element',\n",
       " 'at',\n",
       " 'the',\n",
       " 'end',\n",
       " 'of',\n",
       " 'the',\n",
       " 'list',\n",
       " 'new element']"
      ]
     },
     "execution_count": 20,
     "metadata": {},
     "output_type": "execute_result"
    }
   ],
   "source": [
    "# To insert an element at a specific position in the list:\n",
    "elements.insert(0, 'first')\n",
    "elements"
   ]
  },
  {
   "cell_type": "code",
   "execution_count": 21,
   "metadata": {},
   "outputs": [
    {
     "data": {
      "text/plain": [
       "['Adds',\n",
       " 'an',\n",
       " 'element',\n",
       " 'at',\n",
       " 'the',\n",
       " 'end',\n",
       " 'of',\n",
       " 'the',\n",
       " 'list',\n",
       " 'new element']"
      ]
     },
     "execution_count": 21,
     "metadata": {},
     "output_type": "execute_result"
    }
   ],
   "source": [
    "# To remove an element by value from the list:\n",
    "elements.remove('first')\n",
    "elements"
   ]
  },
  {
   "cell_type": "code",
   "execution_count": 22,
   "metadata": {},
   "outputs": [
    {
     "data": {
      "text/plain": [
       "'new element'"
      ]
     },
     "execution_count": 22,
     "metadata": {},
     "output_type": "execute_result"
    }
   ],
   "source": [
    "# Removes and returns the last element from list\n",
    "last_element = elements.pop()\n",
    "last_element"
   ]
  },
  {
   "cell_type": "code",
   "execution_count": 24,
   "metadata": {},
   "outputs": [
    {
     "data": {
      "text/plain": [
       "5"
      ]
     },
     "execution_count": 24,
     "metadata": {},
     "output_type": "execute_result"
    }
   ],
   "source": [
    "# To find the index of the first occurrence of an element:\n",
    "index_of_end = elements.index('end')\n",
    "index_of_end"
   ]
  },
  {
   "cell_type": "code",
   "execution_count": 27,
   "metadata": {},
   "outputs": [
    {
     "data": {
      "text/plain": [
       "['an', 'element', 'at']"
      ]
     },
     "execution_count": 27,
     "metadata": {},
     "output_type": "execute_result"
    }
   ],
   "source": [
    "# To slice a list,\n",
    "# Get elements from index 1 to 3\n",
    "sub_elements = elements[1:4]\n",
    "sub_elements"
   ]
  },
  {
   "cell_type": "code",
   "execution_count": 28,
   "metadata": {},
   "outputs": [
    {
     "data": {
      "text/plain": [
       "['Adds', 'an', 'at', 'element', 'end', 'list', 'of', 'the', 'the']"
      ]
     },
     "execution_count": 28,
     "metadata": {},
     "output_type": "execute_result"
    }
   ],
   "source": [
    "# to sort a list\n",
    "elements.sort()\n",
    "elements"
   ]
  },
  {
   "cell_type": "code",
   "execution_count": 29,
   "metadata": {},
   "outputs": [
    {
     "data": {
      "text/plain": [
       "['the', 'the', 'of', 'list', 'end', 'element', 'at', 'an', 'Adds']"
      ]
     },
     "execution_count": 29,
     "metadata": {},
     "output_type": "execute_result"
    }
   ],
   "source": [
    "# to reverse the elements of a list\n",
    "elements.reverse()\n",
    "elements"
   ]
  },
  {
   "cell_type": "code",
   "execution_count": 30,
   "metadata": {},
   "outputs": [
    {
     "data": {
      "text/plain": [
       "['the', 'the', 'of', 'list', 'end', 'element', 'at', 'an', 'Adds']"
      ]
     },
     "execution_count": 30,
     "metadata": {},
     "output_type": "execute_result"
    }
   ],
   "source": [
    "# copy() method returns a shallow copy of the list.\n",
    "new_list = elements.copy()\n",
    "new_list"
   ]
  },
  {
   "cell_type": "code",
   "execution_count": 31,
   "metadata": {},
   "outputs": [
    {
     "data": {
      "text/plain": [
       "['the', 'the', 'of', 'list', 'end', 'element', 'at', 'an', 'Adds']"
      ]
     },
     "execution_count": 31,
     "metadata": {},
     "output_type": "execute_result"
    }
   ],
   "source": [
    "# copying a list using slicing\n",
    "new_list = elements[:]\n",
    "new_list"
   ]
  },
  {
   "cell_type": "code",
   "execution_count": 11,
   "metadata": {},
   "outputs": [
    {
     "data": {
      "text/plain": [
       "['Adds', 'an', 'element', 'at', 'the', 'end', 'of', 'the', 'list', '1', '2']"
      ]
     },
     "execution_count": 11,
     "metadata": {},
     "output_type": "execute_result"
    }
   ],
   "source": [
    "# Add the elements to the end of the current list\n",
    "new_extend = elements.extend(['1','2'])\n",
    "elements"
   ]
  }
 ],
 "metadata": {
  "kernelspec": {
   "display_name": "Python 3",
   "language": "python",
   "name": "python3"
  },
  "language_info": {
   "codemirror_mode": {
    "name": "ipython",
    "version": 3
   },
   "file_extension": ".py",
   "mimetype": "text/x-python",
   "name": "python",
   "nbconvert_exporter": "python",
   "pygments_lexer": "ipython3",
   "version": "3.8.9"
  }
 },
 "nbformat": 4,
 "nbformat_minor": 2
}
